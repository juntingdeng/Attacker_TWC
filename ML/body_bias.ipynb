{
 "cells": [
  {
   "cell_type": "code",
   "execution_count": 2,
   "metadata": {},
   "outputs": [
    {
     "name": "stdout",
     "output_type": "stream",
     "text": [
      "[[1.05 1.05 0.9  0.   0.9  0.15 0.15 0.3  0.6 ]\n",
      " [0.   1.05 0.45 0.45 0.6  0.15 1.05 0.   1.05]\n",
      " [0.45 0.9  0.3  0.6  0.15 1.05 0.9  0.3  0.15]\n",
      " [0.15 0.   0.9  0.75 0.75 0.45 0.15 0.6  0.9 ]\n",
      " [0.75 0.15 0.3  0.15 0.3  0.75 0.9  0.6  0.45]\n",
      " [0.6  0.75 0.9  0.9  0.6  0.3  0.9  0.15 0.  ]\n",
      " [0.15 0.9  0.6  0.9  0.3  0.   0.75 0.9  0.45]\n",
      " [0.6  0.   0.75 0.6  0.6  0.6  0.6  0.3  1.05]]\n"
     ]
    }
   ],
   "source": [
    "import numpy as np\n",
    "\n",
    "decSecMat = [[8, 8, 7, 1, 7, 2, 2, 3, 5],\n",
    "             [1, 8, 4, 4, 5, 2, 8, 1, 8],\n",
    "             [4, 7, 3, 5, 2, 8, 7, 3, 2],\n",
    "             [2, 1, 7, 6, 6, 4, 2, 5, 7],\n",
    "             [6, 2, 3, 2, 3, 6, 7, 5, 4],\n",
    "             [5, 6, 7, 7, 5, 3, 7, 2, 1],\n",
    "             [2, 7, 5, 7, 3, 1, 6, 7, 4],\n",
    "             [5, 1, 6, 5, 5, 5, 5, 3, 8]]\n",
    "\n",
    "decSecMat = np.array(decSecMat)\n",
    "body_bias = 1.2*((decSecMat-1)/8)\n",
    "print(body_bias)"
   ]
  }
 ],
 "metadata": {
  "kernelspec": {
   "display_name": "base",
   "language": "python",
   "name": "python3"
  },
  "language_info": {
   "codemirror_mode": {
    "name": "ipython",
    "version": 3
   },
   "file_extension": ".py",
   "mimetype": "text/x-python",
   "name": "python",
   "nbconvert_exporter": "python",
   "pygments_lexer": "ipython3",
   "version": "3.9.16"
  },
  "orig_nbformat": 4
 },
 "nbformat": 4,
 "nbformat_minor": 2
}
