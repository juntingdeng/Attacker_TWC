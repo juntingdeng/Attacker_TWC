{
 "cells": [
  {
   "cell_type": "code",
   "execution_count": 23,
   "metadata": {},
   "outputs": [],
   "source": [
    "import os\n",
    "import shutil\n",
    "import numpy as np\n",
    "import matplotlib.pyplot as plt"
   ]
  },
  {
   "cell_type": "code",
   "execution_count": 24,
   "metadata": {},
   "outputs": [
    {
     "name": "stdout",
     "output_type": "stream",
     "text": [
      "snr:35, average acc:97.27%\n",
      "snr:30, average acc:95.31%\n",
      "snr:25, average acc:96.88%\n",
      "snr:20, average acc:92.58%\n",
      "snr:15, average acc:94.92%\n",
      "snr:10, average acc:96.48%\n",
      "snr:5, average acc:96.48%\n"
     ]
    }
   ],
   "source": [
    "path_parent = \"./checkpoint2/gan/gan_vae_PA_fixed\"\n",
    "snrs= [35, 30, 25, 20, 15, 10, 5]\n",
    "seed=0\n",
    "nrff=220\n",
    "acc_snrs=np.zeros((len(snrs),))\n",
    "path_dict={}\n",
    "seed_save=[0, 128]\n",
    "for snri in range(len(snrs)):\n",
    "    snr = snrs[snri]\n",
    "    path_dict[snr]={}\n",
    "    acc_rffs=np.zeros((nrff,))\n",
    "    ckp_rffs={}\n",
    "    plot_path = path_parent+\"/snr\"+str(snr)+\"/plot/\"\n",
    "    if not os.path.exists(plot_path):\n",
    "        os.makedirs(plot_path+\"/ckp\")\n",
    "        os.makedirs(plot_path+\"/time_curve\")\n",
    "    \n",
    "    folders = os.listdir(path_parent+\"/snr\"+str(snr))\n",
    "    for seed in seed_save:\n",
    "        seed_folder=\"seed\"+str(seed)\n",
    "        if seed_folder not in folders:\n",
    "            continue\n",
    "        path_ckp = path_parent+\"/snr\"+str(snr)+\"/\"+seed_folder+\"/ckp\"\n",
    "        files = os.listdir(path_ckp)\n",
    "        for file in files:\n",
    "            if len(file.split(\"_\"))<2:\n",
    "                continue\n",
    "            rff = int(file.split(\"_\")[0][3:])\n",
    "            if rff not in ckp_rffs.keys():\n",
    "                ckp_rffs[rff]=['', '']\n",
    "            val_acc = float(file.split(\"_\")[4][6:])\n",
    "            acc_rffs[rff] = val_acc\n",
    "            ckp_rffs[rff][0] = seed_folder\n",
    "            ckp_rffs[rff][1] = file\n",
    "    \n",
    "    for rff in range(nrff):\n",
    "        if rff not in ckp_rffs.keys():\n",
    "            continue\n",
    "        path_dict[snr][rff]={}\n",
    "        path_dict[snr][rff]['ckp']=path_parent+\"/snr\"+str(snr)+\"/\"+ckp_rffs[rff][0]+\"/ckp/\"+ckp_rffs[rff][1]\n",
    "        path_dict[snr][rff]['time']=path_parent+\"/snr\"+str(snr)+\"/\"+ckp_rffs[rff][0]+\"/time_curve/pre_time_curve_\"+str(rff)+\".npy\"\n",
    "        # shutil.copyfile(path_parent+\"/snr\"+str(snr)+\"/\"+ckp_rffs[rff][0]+\"/ckp/\"+ckp_rffs[rff][1], plot_path+\"ckp/\"+ckp_rffs[rff][1])\n",
    "        # shutil.copyfile(path_parent+\"/snr\"+str(snr)+\"/\"+ckp_rffs[rff][0]+\"/time_curve/pre_time_curve_\"+str(rff)+\".npy\", plot_path+\"/time_curve/time_curve_\"+str(rff)+\".npy\")\n",
    "\n",
    "    acc_snrs[snri]=np.mean(acc_rffs)\n",
    "    print(\"snr:{}, average acc:{}%\".format(snr, np.round(100*acc_rffs[snri], 2)))\n",
    "np.save(\"./checkpoint2/gan/gan_vae_PA_fixed/plot_path_dict.npy\", path_dict)"
   ]
  },
  {
   "cell_type": "code",
   "execution_count": 25,
   "metadata": {},
   "outputs": [
    {
     "name": "stdout",
     "output_type": "stream",
     "text": [
      "7\n",
      "220\n",
      "./checkpoint2/gan/gan_vae_PA_fixed/snr25/seed0/ckp/rff211_SNR25_epoch1_trainAcc0.0_valAcc0.0039_trainBiAcc1.0_valBiAcc1.0.gan\n",
      "./checkpoint2/gan/gan_vae_PA_fixed/snr25/seed0/time_curve/pre_time_curve_211.npy\n"
     ]
    }
   ],
   "source": [
    "path_dict_load = np.load(\"./checkpoint2/gan/gan_vae_PA_fixed/plot_path_dict.npy\", allow_pickle=True)\n",
    "path_dict_load = path_dict_load.item()\n",
    "snrs = list(path_dict_load.keys())\n",
    "rffs = list(path_dict_load[snrs[0]])\n",
    "print(len(snrs))\n",
    "print(len(rffs))\n",
    "print(path_dict_load[25][211]['ckp'])\n",
    "print(path_dict_load[25][211]['time'])"
   ]
  }
 ],
 "metadata": {
  "kernelspec": {
   "display_name": "base",
   "language": "python",
   "name": "python3"
  },
  "language_info": {
   "codemirror_mode": {
    "name": "ipython",
    "version": 3
   },
   "file_extension": ".py",
   "mimetype": "text/x-python",
   "name": "python",
   "nbconvert_exporter": "python",
   "pygments_lexer": "ipython3",
   "version": "3.9.16"
  }
 },
 "nbformat": 4,
 "nbformat_minor": 2
}
