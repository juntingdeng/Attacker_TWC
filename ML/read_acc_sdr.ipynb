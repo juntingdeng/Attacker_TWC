{
 "cells": [
  {
   "cell_type": "code",
   "execution_count": 1,
   "metadata": {},
   "outputs": [],
   "source": [
    "import os\n",
    "import shutil\n",
    "import numpy as np\n",
    "import matplotlib.pyplot as plt"
   ]
  },
  {
   "cell_type": "code",
   "execution_count": 4,
   "metadata": {},
   "outputs": [
    {
     "data": {
      "text/plain": [
       "'/home/juntingd/research/Attacker_code/ML'"
      ]
     },
     "execution_count": 4,
     "metadata": {},
     "output_type": "execute_result"
    }
   ],
   "source": [
    "os.getcwd()"
   ]
  },
  {
   "cell_type": "code",
   "execution_count": 48,
   "metadata": {},
   "outputs": [
    {
     "name": "stdout",
     "output_type": "stream",
     "text": [
      "snr:35, average acc:89.66%\n",
      "snr:30, average acc:94.13%\n",
      "snr:25, average acc:96.57%\n",
      "snr:20, average acc:91.55%\n",
      "snr:15, average acc:93.31%\n",
      "snr:10, average acc:94.66%\n",
      "snr:5, average acc:93.9%\n"
     ]
    }
   ],
   "source": [
    "GAN_VAE=False\n",
    "noGAN=False\n",
    "noVAE=True\n",
    "makePlot=False\n",
    "savePlot=False\n",
    "seed=128\n",
    "snrs=[35, 30, 25, 20, 15, 10, 5]\n",
    "nsdr=11\n",
    "\n",
    "assert GAN_VAE != (noGAN or noVAE)\n",
    "if noGAN:\n",
    "    path_parent = \"../checkpoint2/generator/gen_poly_ray_SDR_normAll_nosnrclf_bn_dup_poly_deg5_mem3\"\n",
    "elif noVAE:\n",
    "    path_parent = \"../checkpoint2/ganWOvae/gan_poly_ray_SDR_normAll_nosnrclf_bn_dup_poly_deg5_mem3_1\"\n",
    "elif GAN_VAE:\n",
    "    path_parent = \"../checkpoint2/gan/gan_poly_ray_SDR_normAll_nosnrclf_bn_dup\"\n",
    "\n",
    "acc_snrs=np.zeros((len(snrs),))\n",
    "if not os.path.exists(path_parent):\n",
    "    print(\"ckp not found.\")\n",
    "else:\n",
    "    for snri in range(len(snrs)):\n",
    "        snr = snrs[snri]\n",
    "        acc_sdrs=np.zeros((nsdr,))\n",
    "        ckp_sdrs={}\n",
    "        plot_path = path_parent+\"/snr\"+str(snr)+\"/plot/\"\n",
    "        if savePlot and not os.path.exists(plot_path):\n",
    "            os.makedirs(plot_path+\"/ckp\")\n",
    "            os.makedirs(plot_path+\"/time_curve\")\n",
    "        for seed_folder in os.listdir(path_parent+\"/snr\"+str(snr)):\n",
    "            if seed_folder[:4] != 'seed':\n",
    "                continue\n",
    "            if not makePlot and int(seed_folder[4:])!=seed:\n",
    "                continue\n",
    "            path_ckp = path_parent+\"/snr\"+str(snr)+\"/\"+seed_folder+\"/ckp/\"\n",
    "            files = os.listdir(path_ckp)\n",
    "            for file in files:\n",
    "                if len(file.split(\"_\"))<2:\n",
    "                    continue\n",
    "                sdr = int(file.split(\"_\")[0][3:])\n",
    "                if sdr>=nsdr:\n",
    "                    continue\n",
    "                if sdr not in ckp_sdrs.keys():\n",
    "                    ckp_sdrs[sdr]=['', '']\n",
    "                \n",
    "                if noGAN:\n",
    "                    val_acc = float(file.split(\"_\")[4].split('.gan')[0][6:])\n",
    "                else:\n",
    "                    val_acc = float(file.split(\"_\")[4][6:])\n",
    "                if val_acc >= acc_sdrs[sdr]:\n",
    "                    acc_sdrs[sdr] = max(acc_sdrs[sdr], val_acc)\n",
    "                    ckp_sdrs[sdr][0] = seed_folder\n",
    "                    ckp_sdrs[sdr][1] = file\n",
    "        if savePlot:\n",
    "            for sdr in range(nsdr):\n",
    "                shutil.copyfile(path_parent+\"/snr\"+str(snr)+\"/\"+ckp_sdrs[sdr][0]+\"/ckp/\"+ckp_sdrs[sdr][1], plot_path+\"ckp/\"+ckp_sdrs[sdr][1])\n",
    "                shutil.copyfile(path_parent+\"/snr\"+str(snr)+\"/\"+ckp_sdrs[sdr][0]+\"/time_curve/time_curve_\"+str(sdr)+\".npy\", plot_path+\"/time_curve/time_curve_\"+str(sdr)+\".npy\")\n",
    "\n",
    "        acc_snrs[snri]=np.mean(acc_sdrs)\n",
    "        print(\"snr:{}, average acc:{}%\".format(snr, np.round(100*acc_snrs[snri], 2)))"
   ]
  },
  {
   "cell_type": "code",
   "execution_count": null,
   "metadata": {},
   "outputs": [],
   "source": [
    "plt.plot(snrs, np.round(100*acc_snrs, 2))\n",
    "plt.xlabel(\"SNR (dB)\")\n",
    "plt.ylabel(\"FPR (%)\")\n",
    "plt.grid()\n",
    "plt.show()"
   ]
  },
  {
   "cell_type": "code",
   "execution_count": 50,
   "metadata": {},
   "outputs": [
    {
     "data": {
      "text/plain": [
       "'/home/juntingd/research/Attacker_code/ML'"
      ]
     },
     "execution_count": 50,
     "metadata": {},
     "output_type": "execute_result"
    }
   ],
   "source": [
    "import os\n",
    "os.getcwd()"
   ]
  },
  {
   "cell_type": "code",
   "execution_count": 70,
   "metadata": {},
   "outputs": [
    {
     "data": {
      "text/plain": [
       "==========================================================================================\n",
       "Layer (type:depth-idx)                   Output Shape              Param #\n",
       "==========================================================================================\n",
       "Discriminator                            [32, 1]                   --\n",
       "├─Sequential: 1-1                        [32, 1]                   --\n",
       "│    └─Linear: 2-1                       [32, 256]                 409,856\n",
       "│    └─ReLU: 2-2                         [32, 256]                 --\n",
       "│    └─Linear: 2-3                       [32, 32]                  8,224\n",
       "│    └─ReLU: 2-4                         [32, 32]                  --\n",
       "│    └─Linear: 2-5                       [32, 1]                   33\n",
       "│    └─Sigmoid: 2-6                      [32, 1]                   --\n",
       "==========================================================================================\n",
       "Total params: 418,113\n",
       "Trainable params: 418,113\n",
       "Non-trainable params: 0\n",
       "Total mult-adds (M): 13.38\n",
       "==========================================================================================\n",
       "Input size (MB): 0.20\n",
       "Forward/backward pass size (MB): 0.07\n",
       "Params size (MB): 1.67\n",
       "Estimated Total Size (MB): 1.95\n",
       "=========================================================================================="
      ]
     },
     "execution_count": 70,
     "metadata": {},
     "output_type": "execute_result"
    }
   ],
   "source": [
    "import torch\n",
    "from torchinfo import summary\n",
    "from GAN_SDR_noVAE import sigGenerator\n",
    "from GAN_SDR import ClassifierSDR, Discriminator\n",
    "\n",
    "GAN_VAE = True\n",
    "noGAN = False\n",
    "noVAE = False\n",
    "\n",
    "testPlot = True\n",
    "SDRlabel = 0\n",
    "\n",
    "device = 'cuda' if torch.cuda.is_available() else 'cpu'\n",
    "if noGAN:\n",
    "    path_parent = \"../checkpoint2/generator/gen_poly_ray_SDR_normAll_nosnrclf_bn_dup_poly_deg5_mem3\"\n",
    "elif noVAE:\n",
    "    path_parent = \"../checkpoint2/ganWOvae/gan_poly_ray_SDR_normAll_nosnrclf_bn_dup_poly_deg5_mem3_1\"\n",
    "elif GAN_VAE:\n",
    "    path_parent = \"../checkpoint2/gan/gan_poly_ray_SDR_normAll_nosnrclf_bn_dup\"\n",
    "\n",
    "path = path_parent+\"/snr35/plot/ckp/\"\n",
    "ckps = os.listdir(path)\n",
    "for ckp in ckps:\n",
    "    if len(ckp.split(\"_\"))<2:\n",
    "        continue\n",
    "    sdr_load = int(ckp.split(\"_\")[0][3:])\n",
    "    if sdr_load == SDRlabel:\n",
    "        break\n",
    "SNR_load = int(ckp.split(\"_\")[1][3:])\n",
    "train_acc = float(ckp.split(\"_\")[3][8:])\n",
    "val_acc = float(ckp.split(\"_\")[4].split(\".\")[0][6:])\n",
    "ckp_load=torch.load(path+ckp, map_location=device)\n",
    "generator = ckp_load[\"generator\"]\n",
    "generator.device = device\n",
    "summary(generator, input_size=(32, 2, 800))\n",
    "\n",
    "discriminator = ckp_load[\"discriminator\"]\n",
    "summary(discriminator, input_size=(32, 2, 800))"
   ]
  }
 ],
 "metadata": {
  "kernelspec": {
   "display_name": "base",
   "language": "python",
   "name": "python3"
  },
  "language_info": {
   "codemirror_mode": {
    "name": "ipython",
    "version": 3
   },
   "file_extension": ".py",
   "mimetype": "text/x-python",
   "name": "python",
   "nbconvert_exporter": "python",
   "pygments_lexer": "ipython3",
   "version": "3.9.18"
  }
 },
 "nbformat": 4,
 "nbformat_minor": 2
}
